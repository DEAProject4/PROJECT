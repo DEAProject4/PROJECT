{
 "cells": [
  {
   "cell_type": "code",
   "execution_count": null,
   "metadata": {},
   "outputs": [],
   "source": [
    "# 필요 라이브러리\n",
    "\n",
    "# 분석을 위한 라이브러리\n",
    "import numpy as np\n",
    "import pandas as pd\n",
    "\n",
    "# 시각화를 위한 라이브러리\n",
    "import matplotlib.pyplot as plt\n",
    "import seaborn as sns\n",
    "\n",
    "from datetime import datetime\n",
    "import os\n",
    "\n",
    "# 에러메세지 안나오게\n",
    "import warnings\n",
    "warnings.filterwarnings('ignore')\n",
    "\n",
    "# pd.options.display.float_format = '{:.2f}'.format\n",
    "pd.set_option('display.max_columns',None)\n",
    "# pd.set_option('display.max_rows',None)\n",
    "\n",
    "sns.set(font_scale=1)\n",
    "\n",
    "# 그래프 한글 적용\n",
    "import matplotlib\n",
    "matplotlib.rcParams['font.family'] ='Malgun Gothic'\n",
    "matplotlib.rcParams['axes.unicode_minus'] =False\n",
    "\n",
    "# 디비 연결\n",
    "import psycopg2\n",
    "import json\n",
    "\n",
    "def rds_python_conn():\n",
    "    # rds와 python 연동을 위한 정보 입력\n",
    "    with open('postgres.info.json','r') as json_file:\n",
    "        db_info = json.load(json_file)\n",
    "\n",
    "    host = db_info.get('host')\n",
    "    dbname = 'postgres' \n",
    "    user = 'postgres' \n",
    "    password = db_info.get('password')\n",
    "    port = 5432\n",
    "\n",
    "    connection = psycopg2.connect(host=host,\n",
    "                                  dbname=dbname ,\n",
    "                                  user=user ,\n",
    "                                  password=password ,\n",
    "                                  port=port)\n",
    "    return connection"
   ]
  }
 ],
 "metadata": {
  "language_info": {
   "name": "python"
  },
  "orig_nbformat": 4
 },
 "nbformat": 4,
 "nbformat_minor": 2
}
